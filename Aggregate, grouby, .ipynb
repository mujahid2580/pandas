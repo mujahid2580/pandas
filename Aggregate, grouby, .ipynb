{
 "cells": [
  {
   "cell_type": "markdown",
   "metadata": {},
   "source": [
    "# AGGREGATION AND GROUPING"
   ]
  },
  {
   "cell_type": "markdown",
   "metadata": {},
   "source": [
    "## Generally aggregate means combining several seperate elements"
   ]
  },
  {
   "cell_type": "markdown",
   "metadata": {},
   "source": [
    "### import the libraries"
   ]
  },
  {
   "cell_type": "code",
   "execution_count": 8,
   "metadata": {},
   "outputs": [],
   "source": [
    "import pandas as pd\n",
    "import numpy as np\n",
    "import seaborn as sns\n",
    "import matplotlib.pyplot as plt"
   ]
  },
  {
   "cell_type": "markdown",
   "metadata": {},
   "source": [
    "# AGGREGATION METHODS AND ITS DESCRIPTION"
   ]
  },
  {
   "cell_type": "code",
   "execution_count": 66,
   "metadata": {
    "jupyter": {
     "source_hidden": true
    }
   },
   "outputs": [
    {
     "name": "stdout",
     "output_type": "stream",
     "text": [
      "AGGREGATION        :      DESCRIPTION\n",
      "count()            : Total number of items\n",
      "first(), last()    : First and last item\n",
      "mean(), median()   : Mean and median\n",
      "min(), max()       : Minimum and maximum\n",
      "std(), var()       : Standard deviation and variance\n",
      "mad()              : Mean absolute deviation\n",
      "prod()             : Product of all items\n",
      "sum()              : Sum of all items\n"
     ]
    }
   ],
   "source": [
    "ag=  [[\"count()\"\t,\"Total number of items\"],\n",
    "     [\"first(), last()\",\"First and last item\"],\n",
    "     [\"mean(), median()\",\"Mean and median\"],\n",
    "     [\"min(), max()\",\"Minimum and maximum\"],\n",
    "     [\"std(), var()\",\"Standard deviation and variance\"],\n",
    "     [\"mad()\",\"Mean absolute deviation\"],\n",
    "     [\"prod()\",\"Product of all items\"],\n",
    "     [\"sum()\",\"Sum of all items\"]]\n",
    "print(\"AGGREGATION        :      DESCRIPTION\")\n",
    "for item in ag:\n",
    "    print(item[0],\" \"*(17-len(item[0])),\":\",item[1])"
   ]
  },
  {
   "cell_type": "code",
   "execution_count": null,
   "metadata": {},
   "outputs": [],
   "source": []
  }
 ],
 "metadata": {
  "kernelspec": {
   "display_name": "Python 3",
   "language": "python",
   "name": "python3"
  },
  "language_info": {
   "codemirror_mode": {
    "name": "ipython",
    "version": 3
   },
   "file_extension": ".py",
   "mimetype": "text/x-python",
   "name": "python",
   "nbconvert_exporter": "python",
   "pygments_lexer": "ipython3",
   "version": "3.7.5"
  }
 },
 "nbformat": 4,
 "nbformat_minor": 4
}
